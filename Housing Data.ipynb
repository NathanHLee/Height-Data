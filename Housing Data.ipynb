{
 "cells": [
  {
   "cell_type": "code",
   "execution_count": null,
   "metadata": {},
   "outputs": [],
   "source": [
    "import pandas as pd\n",
    "\n",
    "height = pd.read_csv('Height of Male and Female by Country 2022.csv')\n",
    "height.head()"
   ]
  },
  {
   "cell_type": "markdown",
   "metadata": {},
   "source": []
  },
  {
   "cell_type": "markdown",
   "metadata": {},
   "source": [
    "Questions:\n",
    "1 - Which country has the tallest male?\n",
    "2 - Which country has the tallest female?"
   ]
  },
  {
   "cell_type": "markdown",
   "metadata": {},
   "source": []
  },
  {
   "cell_type": "code",
   "execution_count": null,
   "metadata": {},
   "outputs": [],
   "source": [
    "# First, always clean your data. Check for any wild inconsistancies, like any really tall people, or really short\n",
    "height['Male Height in Ft'].unique()"
   ]
  },
  {
   "cell_type": "code",
   "execution_count": null,
   "metadata": {},
   "outputs": [],
   "source": [
    "# See how much data we're working with, check if all the data is equal and we have no missing data\n",
    "height.count()"
   ]
  },
  {
   "cell_type": "markdown",
   "metadata": {},
   "source": [
    "199 in all columns means we're looking ready to start"
   ]
  },
  {
   "cell_type": "code",
   "execution_count": null,
   "metadata": {},
   "outputs": [],
   "source": [
    "# Collect data of male's height in cm and ft, along with their country name\n",
    "males = height[['Country Name', 'Male Height in Cm', 'Male Height in Ft']]\n",
    "males.head()"
   ]
  },
  {
   "cell_type": "code",
   "execution_count": null,
   "metadata": {},
   "outputs": [],
   "source": [
    "# Sort the values from highest to lowest\n",
    "males_sorted = males.sort_values('Male Height in Ft', ascending=False)\n",
    "males_sorted.head()"
   ]
  },
  {
   "cell_type": "markdown",
   "metadata": {},
   "source": []
  },
  {
   "cell_type": "markdown",
   "metadata": {},
   "source": [
    "Males are already sorted???"
   ]
  },
  {
   "cell_type": "markdown",
   "metadata": {},
   "source": [
    "Lets continue with female data"
   ]
  },
  {
   "cell_type": "code",
   "execution_count": null,
   "metadata": {},
   "outputs": [],
   "source": [
    "# Collect data of male's height in cm and ft, along with their country name\n",
    "females = height[['Country Name', 'Female Height in Cm', 'Female Height in Ft']]\n",
    "females.head()"
   ]
  },
  {
   "cell_type": "code",
   "execution_count": null,
   "metadata": {},
   "outputs": [],
   "source": [
    "# Sort the values from highest to lowest\n",
    "females_sorted = females.sort_values('Female Height in Ft', ascending=False)\n",
    "females_sorted.head()"
   ]
  },
  {
   "cell_type": "markdown",
   "metadata": {},
   "source": [
    "New Question:\n",
    "3 - What is the height of males and females in the United States?"
   ]
  },
  {
   "cell_type": "code",
   "execution_count": null,
   "metadata": {},
   "outputs": [],
   "source": [
    "# A double datafram, i.e 'males_sorted', lets us narrow our search specifically in the country name column\n",
    "males_us = males_sorted[males_sorted['Country Name'] == 'United States']\n",
    "males_us.head()"
   ]
  },
  {
   "cell_type": "markdown",
   "metadata": {},
   "source": [
    "What did I learn today? Read the dataset you're collecting from so you realize this \n",
    "is an average height in each country, rather than a big list of heights of people."
   ]
  },
  {
   "cell_type": "code",
   "execution_count": null,
   "metadata": {},
   "outputs": [],
   "source": [
    "# Compare heights between male and female\n",
    "\n",
    "# Only use the columns that will help visualize the data\n",
    "height_chart = height[['Female Height in Ft', 'Male Height in Ft']]\n",
    "# Create a line graph on the data\n",
    "height_chart.plot(kind='line')"
   ]
  },
  {
   "cell_type": "markdown",
   "metadata": {},
   "source": [
    "New Question:\n",
    "4 - What is the average height of a male and female"
   ]
  },
  {
   "cell_type": "code",
   "execution_count": null,
   "metadata": {},
   "outputs": [],
   "source": [
    "print('Average male height = ', height['Male Height in Ft'].mean())\n",
    "print('Average female height = ', height['Female Height in Ft'].mean())"
   ]
  }
 ],
 "metadata": {
  "interpreter": {
   "hash": "b89b5cfaba6639976dc87ff2fec6d58faec662063367e2c229c520fe71072417"
  },
  "kernelspec": {
   "display_name": "Python 3.10.2 64-bit",
   "language": "python",
   "name": "python3"
  },
  "language_info": {
   "codemirror_mode": {
    "name": "ipython",
    "version": 3
   },
   "file_extension": ".py",
   "mimetype": "text/x-python",
   "name": "python",
   "nbconvert_exporter": "python",
   "pygments_lexer": "ipython3",
   "version": "3.10.2"
  },
  "orig_nbformat": 4
 },
 "nbformat": 4,
 "nbformat_minor": 2
}
